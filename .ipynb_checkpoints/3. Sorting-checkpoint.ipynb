{
 "cells": [
  {
   "cell_type": "markdown",
   "metadata": {},
   "source": [
    "### 1. Insert Sorting"
   ]
  },
  {
   "cell_type": "code",
   "execution_count": 23,
   "metadata": {},
   "outputs": [
    {
     "name": "stdout",
     "output_type": "stream",
     "text": [
      "[1 4 7 2 6 5 9 7 8 5]\n",
      "[1 2 4 5 5 6 7 7 8 9]\n"
     ]
    }
   ],
   "source": [
    "# myList =input('Please input a list needing to be sorted')\n",
    "# myList=[2,5,8,1,7,6]\n",
    "import numpy as np\n",
    "scale_size = 10\n",
    "myList = np.random.randint(0,scale_size,scale_size)\n",
    "print(myList)\n",
    "listLen = len(myList)\n",
    "\n",
    "def exchangeValue(listIn,id_i,id_j):\n",
    "    '''Exchange values inside the list between given indexes'''\n",
    "    temp  = listIn[id_i]\n",
    "    listIn[id_i] = listIn[id_j]\n",
    "    listIn[id_j] = temp\n",
    "#exchangeValue(myList,0,1)\n",
    "\n",
    "for i in range(1,listLen):\n",
    "    j = i\n",
    "    while j > 0:\n",
    "        if myList[j] < myList[j-1]: # Ascending order\n",
    "            exchangeValue(myList,j,j-1)\n",
    "            j-=1\n",
    "        else:\n",
    "            j-=1\n",
    "            break      \n",
    "print(myList)"
   ]
  },
  {
   "cell_type": "code",
   "execution_count": 32,
   "metadata": {},
   "outputs": [
    {
     "name": "stdout",
     "output_type": "stream",
     "text": [
      "[8 9 7 8 8 7 6 7 0 6]\n",
      "[9 8 8 8 7 7 7 6 6 0]\n"
     ]
    }
   ],
   "source": [
    "# This is a more concise version, the number of operations during each loop \n",
    "# can be reduced further from last version\n",
    "scale_size_1 = 10\n",
    "myList1 = np.random.randint(0,scale_size_1,scale_size_1)\n",
    "#myList1 = [3, 1, 5, 0, 3]\n",
    "print(myList1)\n",
    "listLen = len(myList1)\n",
    "for i in range(1,listLen):\n",
    "    j = i\n",
    "    tempVar = myList1[i]    \n",
    "    while j > 0 and myList1[j-1] > tempVar: \n",
    "    #as long as a_j-1 > a_j (local descending order), exchange should happen\n",
    "        myList1[j] = myList1[j-1]\n",
    "        j-=1\n",
    "    myList1[j] = tempVar\n",
    "print(myList1)"
   ]
  },
  {
   "cell_type": "markdown",
   "metadata": {},
   "source": [
    "### 2. Merge Sort"
   ]
  },
  {
   "cell_type": "code",
   "execution_count": 58,
   "metadata": {},
   "outputs": [
    {
     "name": "stdout",
     "output_type": "stream",
     "text": [
      "[1, 1, 3, 2, 8, 6, 4, 8, 0, 8]\n",
      "[0, 1, 1, 2, 3, 4, 6, 8, 8, 8]\n"
     ]
    }
   ],
   "source": [
    "def mergeSort(myList):\n",
    "    '''Sort list with ascending order using merging sort algorithm'''\n",
    "    from math import floor as flr\n",
    "    import numpy as np\n",
    "    N =  len(myList)\n",
    "    if N==1 :\n",
    "        return myList\n",
    "    else:\n",
    "        # Divide into two parts\n",
    "        subList_1 = myList[0:flr(N/2)]\n",
    "        subList_2 = myList[flr(N/2):N]\n",
    "        # Recursion to sort sublists\n",
    "        mergeSort(subList_1)\n",
    "        mergeSort(subList_2)\n",
    "        # Merge two sublists\n",
    "        pointer_1 = 0\n",
    "        pointer_2 = 0\n",
    "        max_max = max(subList_1[-1],subList_2[-1]) + 1.0\n",
    "        for i in range(N):\n",
    "            # set pointer for sublist 1\n",
    "            if pointer_1 < len(subList_1):\n",
    "                value_1 = subList_1[pointer_1]\n",
    "            else:\n",
    "                value_1 = max_max\n",
    "            # set pointer for sublist 2\n",
    "            if pointer_2 < len(subList_2):\n",
    "                value_2 = subList_2[pointer_2]\n",
    "            else:\n",
    "                value_2 = max_max\n",
    "            myList[i]=min(value_1,value_2)\n",
    "            # Move pointer based on sorted sublists\n",
    "            if value_1 < value_2:\n",
    "                pointer_1+=1\n",
    "            else:\n",
    "                pointer_2+=1\n",
    "        return myList\n",
    "\n",
    "import numpy as np\n",
    "scale_size_1 = 10\n",
    "myList1 = list(np.random.randint(0,scale_size_1,scale_size_1))\n",
    "#myList1 = [7,5,3,1,6,3,6,4,2,3]\n",
    "print(myList1)\n",
    "mergeSort(myList1)\n",
    "print(myList1)"
   ]
  },
  {
   "cell_type": "markdown",
   "metadata": {},
   "source": [
    "### Test performance of different sorting algorithms"
   ]
  },
  {
   "cell_type": "code",
   "execution_count": 5,
   "metadata": {},
   "outputs": [
    {
     "name": "stdout",
     "output_type": "stream",
     "text": [
      "[ 0.0011697   0.00247475  0.00377296  0.00523906  0.00663715  0.00796173\n",
      "  0.00945719  0.01067933  0.01206283  0.01392854  0.01516029  0.01838584\n",
      "  0.01850115  0.01905286  0.02110991  0.02280782  0.02369308  0.02916323\n",
      "  0.0328326   0.02881365]\n",
      "[ 0.00059069  0.0015919   0.00392771  0.00724117  0.01208932  0.01778286\n",
      "  0.02468203  0.033789    0.04201485  0.05473564  0.06421467  0.07809503\n",
      "  0.09261098  0.10688835  0.12315609  0.14098536  0.16264545  0.18574666\n",
      "  0.20943031  0.24883358]\n"
     ]
    }
   ],
   "source": [
    "#from SortAlgorithm import insertSort\n",
    "#from SortAlgorithm import mergeSort\n",
    "from SortAlgorithm.speedTest import insertTest\n",
    "from SortAlgorithm.speedTest import mergeTest\n",
    "#from SortAlgorithm.insertTest import insertTest\n",
    "import numpy as np\n",
    "\n",
    "import timeit\n",
    "import time\n",
    "\n",
    "scale_series = list(range(100,2100,100))\n",
    "time_insert = np.zeros(len(scale_series))\n",
    "time_merge = np.zeros(len(scale_series))\n",
    "for k in range(len(scale_series)):\n",
    "    scale_size = scale_series[k]\n",
    "    # Run test for insert sorting\n",
    "    tic =  time.time()\n",
    "    for i in range(100): # Run for 100 times and then take average\n",
    "        insertTest(scale_size)\n",
    "    toc = time.time()\n",
    "    time_insert[k]=(toc-tic)/100\n",
    "    \n",
    "    # Run test for merge sorting\n",
    "    tic =  time.time()\n",
    "    for i in range(100): # Run for 100 times and then take average\n",
    "        mergeTest(scale_size)\n",
    "    toc = time.time()\n",
    "    time_merge[k]=(toc-tic)/100   \n",
    "    #print('%20.18f' %(toc-tic))\n",
    "print(time_merge)\n",
    "print(time_insert)"
   ]
  },
  {
   "cell_type": "code",
   "execution_count": 10,
   "metadata": {},
   "outputs": [
    {
     "data": {
      "image/png": "[encoded data removed]",
      "text/plain": [
       "<matplotlib.figure.Figure at 0x1c5f3483d30>"
      ]
     },
     "metadata": {},
     "output_type": "display_data"
    }
   ],
   "source": [
    "import matplotlib.pyplot as plt\n",
    "line1, = plt.plot(scale_series,time_insert, label=\"Insert Sorting\", linestyle='-')\n",
    "line2, = plt.plot(scale_series,time_merge, label=\"Merge Sorting\", linestyle='-')\n",
    "# Create a legend for two lines\n",
    "first_legend = plt.legend(handles=[line1, line2], loc=0)\n",
    "plt.xlabel('Scale of input /#')\n",
    "plt.ylabel('Running Time /s')\n",
    "plt.grid(b=True)\n",
    "plt.show()"
   ]
  },
  {
   "cell_type": "code",
   "execution_count": null,
   "metadata": {},
   "outputs": [],
   "source": []
  }
 ],
 "metadata": {
  "kernelspec": {
   "display_name": "Python 3",
   "language": "python",
   "name": "python3"
  },
  "language_info": {
   "codemirror_mode": {
    "name": "ipython",
    "version": 3
   },
   "file_extension": ".py",
   "mimetype": "text/x-python",
   "name": "python",
   "nbconvert_exporter": "python",
   "pygments_lexer": "ipython3",
   "version": "3.6.2"
  }
 },
 "nbformat": 4,
 "nbformat_minor": 2
}
