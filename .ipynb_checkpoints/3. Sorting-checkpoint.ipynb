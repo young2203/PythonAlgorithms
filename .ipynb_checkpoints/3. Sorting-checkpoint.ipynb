{
 "cells": [
  {
   "cell_type": "markdown",
   "metadata": {},
   "source": [
    "### 1. Insert Sorting"
   ]
  },
  {
   "cell_type": "code",
   "execution_count": 8,
   "metadata": {},
   "outputs": [
    {
     "name": "stdout",
     "output_type": "stream",
     "text": [
      "[8 0 1 3 1 7 0 3 0 5]\n",
      "[0 0 0 1 1 3 3 5 7 8]\n"
     ]
    }
   ],
   "source": [
    "# myList =input('Please input a list needing to be sorted')\n",
    "# myList=[2,5,8,1,7,6]\n",
    "import numpy as np\n",
    "scale_size = 10\n",
    "myList = np.random.randint(0,scale_size,scale_size)\n",
    "print(myList)\n",
    "listLen = len(myList)\n",
    "\n",
    "def exchangeValue(listIn,id_i,id_j):\n",
    "    '''Exchange values inside the list between given indexes'''\n",
    "    temp  = listIn[id_i]\n",
    "    listIn[id_i] = listIn[id_j]\n",
    "    listIn[id_j] = temp\n",
    "#exchangeValue(myList,0,1)\n",
    "\n",
    "for i in range(1,listLen):\n",
    "    j = i\n",
    "    while j > 0:\n",
    "        if myList[j] < myList[j-1]: # Ascending order\n",
    "            exchangeValue(myList,j,j-1)\n",
    "            j-=1\n",
    "        else:\n",
    "            j-=1\n",
    "            break      \n",
    "print(myList)"
   ]
  },
  {
   "cell_type": "code",
   "execution_count": 14,
   "metadata": {},
   "outputs": [
    {
     "name": "stdout",
     "output_type": "stream",
     "text": [
      "[1, 3, 5, 4, 3]\n",
      "[1, 3, 3, 4, 5]\n"
     ]
    }
   ],
   "source": [
    "# This is a more concise version, the number of operations during each loop \n",
    "# can be reduced further from last version\n",
    "scale_size_1 = 10\n",
    "myList1 = np.random.randint(0,scale_size_1,scale_size_1)\n",
    "#myList1 = [1, 3, 5, 4, 3]\n",
    "print(myList1)\n",
    "listLen = len(myList1)\n",
    "for i in range(1,listLen):\n",
    "    j = i\n",
    "    tempVar = myList1[i]    \n",
    "    while j > 0 and myList1[j-1] > tempVar: \n",
    "    #as long as a_j-1 > a_j (local descending order), exchange should happen\n",
    "        myList1[j] = myList1[j-1]\n",
    "        j-=1\n",
    "    myList1[j] = tempVar\n",
    "print(myList1)"
   ]
  },
  {
   "cell_type": "markdown",
   "metadata": {},
   "source": [
    "### 2. Merge Sort"
   ]
  },
  {
   "cell_type": "code",
   "execution_count": 10,
   "metadata": {},
   "outputs": [
    {
     "name": "stdout",
     "output_type": "stream",
     "text": [
      "[1, 6, 1, 4, 2, 0, 6, 8, 2, 1]\n",
      "[0, 1, 1, 1, 2, 2, 4, 6, 6, 8]\n"
     ]
    }
   ],
   "source": [
    "def mergeSort(myList):\n",
    "    '''Sort list with ascending order using merging sort algorithm'''\n",
    "    from math import floor as flr\n",
    "    import numpy as np\n",
    "    N =  len(myList)\n",
    "    if N==1 :\n",
    "        return myList\n",
    "    else:\n",
    "        # Divide into two parts\n",
    "        subList_1 = myList[0:flr(N/2)]\n",
    "        subList_2 = myList[flr(N/2):N]\n",
    "        # Recursion to sort sublists\n",
    "        mergeSort(subList_1)\n",
    "        mergeSort(subList_2)\n",
    "        # Merge two sublists\n",
    "        pointer_1 = 0\n",
    "        pointer_2 = 0\n",
    "        max_max = max(subList_1[-1],subList_2[-1]) + 1.0\n",
    "        for i in range(N):\n",
    "            # set pointer for sublist 1\n",
    "            if pointer_1 < len(subList_1):\n",
    "                value_1 = subList_1[pointer_1]\n",
    "            else:\n",
    "                value_1 = max_max\n",
    "            # set pointer for sublist 2\n",
    "            if pointer_2 < len(subList_2):\n",
    "                value_2 = subList_2[pointer_2]\n",
    "            else:\n",
    "                value_2 = max_max\n",
    "            myList[i]=min(value_1,value_2)\n",
    "            # Move pointer based on sorted sublists\n",
    "            if value_1 < value_2:\n",
    "                pointer_1+=1\n",
    "            else:\n",
    "                pointer_2+=1\n",
    "        return myList\n",
    "\n",
    "import numpy as np\n",
    "scale_size_1 = 10\n",
    "myList1 = list(np.random.randint(0,scale_size_1,scale_size_1))\n",
    "#myList1 = [7,5,3,1,6,3,6,4,2,3]\n",
    "print(myList1)\n",
    "mergeSort(myList1)\n",
    "print(myList1)"
   ]
  },
  {
   "cell_type": "markdown",
   "metadata": {},
   "source": [
    "### 3. Selection Sort"
   ]
  },
  {
   "cell_type": "code",
   "execution_count": 11,
   "metadata": {},
   "outputs": [
    {
     "name": "stdout",
     "output_type": "stream",
     "text": [
      "[9, 8, 0, 5, 2, 7, 1, 5, 5, 2]\n",
      "[0, 1, 2, 2, 5, 5, 5, 7, 8, 9]\n"
     ]
    }
   ],
   "source": [
    "def selectSort(myList):\n",
    "    '''Sort list with ascending order using selection sort algorithm'''\n",
    "    N = len(myList)\n",
    "    for i in range(0,N-1,1):\n",
    "        min_value = myList[i]\n",
    "        label = i\n",
    "        for j in range(i+1,N,1):\n",
    "            # Always to find the minimum value from the whole list\n",
    "            if myList[j] < min_value:\n",
    "                min_value = myList[j]\n",
    "                label = j\n",
    "        if i!= label : #minimum of this search doesn't happen at initial value\n",
    "            # exchange should happen between i th and j th element\n",
    "            temp = myList[i]\n",
    "            myList[i] = myList[label]\n",
    "            myList[label] = temp\n",
    "    return myList\n",
    "\n",
    "import numpy as np\n",
    "scale_size_1 = 10\n",
    "myList2 = list(np.random.randint(0,scale_size_1,scale_size_1))\n",
    "#myList2 = [7,5,3,1,6,3,6,4,2,3]\n",
    "print(myList2)\n",
    "selectSort(myList2)\n",
    "print(myList2)"
   ]
  },
  {
   "cell_type": "markdown",
   "metadata": {},
   "source": [
    "### Test performance of different sorting algorithms"
   ]
  },
  {
   "cell_type": "code",
   "execution_count": 5,
   "metadata": {},
   "outputs": [
    {
     "name": "stdout",
     "output_type": "stream",
     "text": [
      "[ 0.00108341  0.00278199  0.00430951  0.00690244  0.00623256  0.00944347\n",
      "  0.00997387  0.01024776  0.01149876  0.01321489  0.01674103  0.0174139\n",
      "  0.0175311   0.02016327  0.02085985  0.02205489  0.02580013  0.02806757\n",
      "  0.02496762  0.02628511]\n",
      "[ 0.00063103  0.00213619  0.00391157  0.00788808  0.01270485  0.02039316\n",
      "  0.02871607  0.03374434  0.04301412  0.05442077  0.07267255  0.08734477\n",
      "  0.10851418  0.11680085  0.13524258  0.15144268  0.18692545  0.1843688\n",
      "  0.20334705  0.23447951]\n",
      "[ 0.0002995   0.00107578  0.0025675   0.00532967  0.00739662  0.01230341\n",
      "  0.01465071  0.0191607   0.0239071   0.02941656  0.04182538  0.0539045\n",
      "  0.05116144  0.06380076  0.07173661  0.07847472  0.08947629  0.09471954\n",
      "  0.10709244  0.11757914]\n"
     ]
    }
   ],
   "source": [
    "#from SortAlgorithm import insertSort\n",
    "#from SortAlgorithm import mergeSort\n",
    "from SortAlgorithm.speedTest import insertTest\n",
    "from SortAlgorithm.speedTest import mergeTest\n",
    "from SortAlgorithm.speedTest import selectTest\n",
    "\n",
    "import numpy as np\n",
    "import timeit\n",
    "import time\n",
    "\n",
    "scale_series = list(range(100,2100,100))\n",
    "time_insert = np.zeros(len(scale_series))\n",
    "time_merge = np.zeros(len(scale_series))\n",
    "time_select = np.zeros(len(scale_series))\n",
    "\n",
    "for k in range(len(scale_series)):\n",
    "    scale_size = scale_series[k]\n",
    "    # Run test for insert sorting\n",
    "    tic =  time.time()\n",
    "    for i in range(100): # Run for 100 times and then take average\n",
    "        insertTest(scale_size)\n",
    "    toc = time.time()\n",
    "    time_insert[k]=(toc-tic)/100\n",
    "    \n",
    "    # Run test for merge sorting\n",
    "    tic =  time.time()\n",
    "    for i in range(100): # Run for 100 times and then take average\n",
    "        mergeTest(scale_size)\n",
    "    toc = time.time()\n",
    "    time_merge[k]=(toc-tic)/100   \n",
    "    \n",
    "        # Run test for select sorting\n",
    "    tic =  time.time()\n",
    "    for i in range(100): # Run for 100 times and then take average\n",
    "        selectTest(scale_size)\n",
    "    toc = time.time()\n",
    "    time_select[k]=(toc-tic)/100   \n",
    "    #print('%20.18f' %(toc-tic))\n",
    "    \n",
    "print(time_merge)\n",
    "print(time_insert)\n",
    "print(time_select)"
   ]
  },
  {
   "cell_type": "code",
   "execution_count": 7,
   "metadata": {},
   "outputs": [
    {
     "data": {
      "image/png": "[encoded data removed]",
      "text/plain": [
       "<matplotlib.figure.Figure at 0x1de4f4355c0>"
      ]
     },
     "metadata": {},
     "output_type": "display_data"
    }
   ],
   "source": [
    "import matplotlib.pyplot as plt\n",
    "line1, = plt.plot(scale_series,time_insert, label=\"Insert Sorting\", linestyle='-')\n",
    "line2, = plt.plot(scale_series,time_select, label=\"Select Sorting\", linestyle='-')\n",
    "line3, = plt.plot(scale_series,time_merge, label=\"Merge Sorting\", linestyle='-')\n",
    "# Create a legend for two lines\n",
    "first_legend = plt.legend(handles=[line1, line2,line3], loc=0)\n",
    "plt.xlabel('Scale of input /#')\n",
    "plt.ylabel('Running Time /s')\n",
    "plt.grid(b=True)\n",
    "plt.show()"
   ]
  },
  {
   "cell_type": "code",
   "execution_count": null,
   "metadata": {},
   "outputs": [],
   "source": []
  }
 ],
 "metadata": {
  "kernelspec": {
   "display_name": "Python 3",
   "language": "python",
   "name": "python3"
  },
  "language_info": {
   "codemirror_mode": {
    "name": "ipython",
    "version": 3
   },
   "file_extension": ".py",
   "mimetype": "text/x-python",
   "name": "python",
   "nbconvert_exporter": "python",
   "pygments_lexer": "ipython3",
   "version": "3.6.2"
  }
 },
 "nbformat": 4,
 "nbformat_minor": 2
}
