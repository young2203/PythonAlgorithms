{
 "cells": [
  {
   "cell_type": "markdown",
   "metadata": {},
   "source": [
    "### 2. Basic data structures\n",
    "\n",
    "#### Different ways to represent tree structure\n",
    "\n",
    "Use lists of lists to realize the following tree structure"
   ]
  },
  {
   "cell_type": "code",
   "execution_count": 8,
   "metadata": {},
   "outputs": [
    {
     "name": "stdout",
     "output_type": "stream",
     "text": [
      "b\n",
      "e\n"
     ]
    }
   ],
   "source": [
    "T=[['a','b'],['c'],['d',['e','f']]]\n",
    "print(T[0][1])\n",
    "print(T[2][1][0])"
   ]
  },
  {
   "cell_type": "markdown",
   "metadata": {},
   "source": [
    "Create a binary tree class"
   ]
  },
  {
   "cell_type": "code",
   "execution_count": 9,
   "metadata": {},
   "outputs": [
    {
     "name": "stdout",
     "output_type": "stream",
     "text": [
      "c\n"
     ]
    }
   ],
   "source": [
    "class Tree:\n",
    "    def __init__(self,left,right) :\n",
    "        self.left = left\n",
    "        self.right = right\n",
    "        \n",
    "# To use the Tree class like this:\n",
    "t = Tree(Tree(\"a\",\"b\"),Tree(\"c\",\"d\"))\n",
    "print(t.right.left)"
   ]
  },
  {
   "cell_type": "code",
   "execution_count": null,
   "metadata": {},
   "outputs": [],
   "source": []
  }
 ],
 "metadata": {
  "kernelspec": {
   "display_name": "Python 3",
   "language": "python",
   "name": "python3"
  },
  "language_info": {
   "codemirror_mode": {
    "name": "ipython",
    "version": 3
   },
   "file_extension": ".py",
   "mimetype": "text/x-python",
   "name": "python",
   "nbconvert_exporter": "python",
   "pygments_lexer": "ipython3",
   "version": "3.6.2"
  }
 },
 "nbformat": 4,
 "nbformat_minor": 2
}
