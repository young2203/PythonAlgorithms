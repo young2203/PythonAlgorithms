{
 "cells": [
  {
   "cell_type": "markdown",
   "metadata": {},
   "source": [
    "### 1. Insert Sorting"
   ]
  },
  {
   "cell_type": "code",
   "execution_count": 8,
   "metadata": {},
   "outputs": [
    {
     "name": "stdout",
     "output_type": "stream",
     "text": [
      "[8 0 1 3 1 7 0 3 0 5]\n",
      "[0 0 0 1 1 3 3 5 7 8]\n"
     ]
    }
   ],
   "source": [
    "# myList =input('Please input a list needing to be sorted')\n",
    "# myList=[2,5,8,1,7,6]\n",
    "import numpy as np\n",
    "scale_size = 10\n",
    "myList = np.random.randint(0,scale_size,scale_size)\n",
    "print(myList)\n",
    "listLen = len(myList)\n",
    "\n",
    "def exchangeValue(listIn,id_i,id_j):\n",
    "    '''Exchange values inside the list between given indexes'''\n",
    "    temp  = listIn[id_i]\n",
    "    listIn[id_i] = listIn[id_j]\n",
    "    listIn[id_j] = temp\n",
    "#exchangeValue(myList,0,1)\n",
    "\n",
    "for i in range(1,listLen):\n",
    "    j = i\n",
    "    while j > 0:\n",
    "        if myList[j] < myList[j-1]: # Ascending order\n",
    "            exchangeValue(myList,j,j-1)\n",
    "            j-=1\n",
    "        else:\n",
    "            j-=1\n",
    "            break      \n",
    "print(myList)"
   ]
  },
  {
   "cell_type": "code",
   "execution_count": 14,
   "metadata": {},
   "outputs": [
    {
     "name": "stdout",
     "output_type": "stream",
     "text": [
      "[1, 3, 5, 4, 3]\n",
      "[1, 3, 3, 4, 5]\n"
     ]
    }
   ],
   "source": [
    "# This is a more concise version, the number of operations during each loop \n",
    "# can be reduced further from last version\n",
    "scale_size_1 = 10\n",
    "myList1 = np.random.randint(0,scale_size_1,scale_size_1)\n",
    "#myList1 = [1, 3, 5, 4, 3]\n",
    "print(myList1)\n",
    "listLen = len(myList1)\n",
    "for i in range(1,listLen):\n",
    "    j = i\n",
    "    tempVar = myList1[i]    \n",
    "    while j > 0 and myList1[j-1] > tempVar: \n",
    "    #as long as a_j-1 > a_j (local descending order), exchange should happen\n",
    "        myList1[j] = myList1[j-1]\n",
    "        j-=1\n",
    "    myList1[j] = tempVar\n",
    "print(myList1)"
   ]
  },
  {
   "cell_type": "markdown",
   "metadata": {},
   "source": [
    "### 2. Merge Sort"
   ]
  },
  {
   "cell_type": "code",
   "execution_count": 10,
   "metadata": {},
   "outputs": [
    {
     "name": "stdout",
     "output_type": "stream",
     "text": [
      "[1, 6, 1, 4, 2, 0, 6, 8, 2, 1]\n",
      "[0, 1, 1, 1, 2, 2, 4, 6, 6, 8]\n"
     ]
    }
   ],
   "source": [
    "def mergeSort(myList):\n",
    "    '''Sort list with ascending order using merging sort algorithm'''\n",
    "    from math import floor as flr\n",
    "    import numpy as np\n",
    "    N =  len(myList)\n",
    "    if N==1 :\n",
    "        return myList\n",
    "    else:\n",
    "        # Divide into two parts\n",
    "        subList_1 = myList[0:flr(N/2)]\n",
    "        subList_2 = myList[flr(N/2):N]\n",
    "        # Recursion to sort sublists\n",
    "        mergeSort(subList_1)\n",
    "        mergeSort(subList_2)\n",
    "        # Merge two sublists\n",
    "        pointer_1 = 0\n",
    "        pointer_2 = 0\n",
    "        max_max = max(subList_1[-1],subList_2[-1]) + 1.0\n",
    "        for i in range(N):\n",
    "            # set pointer for sublist 1\n",
    "            if pointer_1 < len(subList_1):\n",
    "                value_1 = subList_1[pointer_1]\n",
    "            else:\n",
    "                value_1 = max_max\n",
    "            # set pointer for sublist 2\n",
    "            if pointer_2 < len(subList_2):\n",
    "                value_2 = subList_2[pointer_2]\n",
    "            else:\n",
    "                value_2 = max_max\n",
    "            myList[i]=min(value_1,value_2)\n",
    "            # Move pointer based on sorted sublists\n",
    "            if value_1 < value_2:\n",
    "                pointer_1+=1\n",
    "            else:\n",
    "                pointer_2+=1\n",
    "        return myList\n",
    "\n",
    "import numpy as np\n",
    "scale_size_1 = 10\n",
    "myList1 = list(np.random.randint(0,scale_size_1,scale_size_1))\n",
    "#myList1 = [7,5,3,1,6,3,6,4,2,3]\n",
    "print(myList1)\n",
    "mergeSort(myList1)\n",
    "print(myList1)"
   ]
  },
  {
   "cell_type": "markdown",
   "metadata": {},
   "source": [
    "### 2.1 Improved merge sort program based on CLRS book"
   ]
  },
  {
   "cell_type": "code",
   "execution_count": 3,
   "metadata": {},
   "outputs": [
    {
     "name": "stdout",
     "output_type": "stream",
     "text": [
      "[28, 84, 4, 92, 80, 34, 52, 89]\n",
      "[4, 28, 34, 52, 80, 84, 89, 92]\n"
     ]
    }
   ],
   "source": [
    "from math import floor as flr\n",
    "import numpy as np\n",
    "def mergeArray(AList, p, q, r):\n",
    "    '''Merge two arrays sorted with ascending order already'''\n",
    "    n1 = q-p+1\n",
    "    n2 = r-q\n",
    "    LList = list(np.zeros(n1))\n",
    "    RList = list(np.zeros(n2))\n",
    "    for i in range(n1):\n",
    "        LList[i] = AList[p+i]\n",
    "    for j in range(n2):\n",
    "        RList[j] = AList[q+j+1]  \n",
    "    i = 0\n",
    "    j = 0\n",
    "    for k in range(p,r+1):\n",
    "        if  (j == n2) or (i<=n1-1 and LList[i] <= RList[j]): \n",
    "            # Make use of property of OR, if first statement j==n2 is true, return 1 and skip rest of them\n",
    "            # Also the property of AND operation, order does matter!\n",
    "            AList[k] = LList[i]\n",
    "            i = i+1\n",
    "        elif (i == n1) or (j<=n2-1 and LList[i] > RList[j]):      \n",
    "            AList[k] = RList[j]\n",
    "            j = j+1\n",
    "\n",
    "def mergeSort(myList,p,r):\n",
    "    '''Sort list with ascending order using recursion algorithm'''\n",
    "    q = flr((p+r)/2)\n",
    "    # print(p,q,r)\n",
    "    if p==r:\n",
    "        #return 0\n",
    "        pass\n",
    "    elif p < r:       \n",
    "        # Recursion to sort sublists       \n",
    "        mergeSort(myList,p,q)\n",
    "        mergeSort(myList,q+1,r)\n",
    "        mergeArray(myList, p, q, r)\n",
    "    else:\n",
    "        raise('Check input index value!')\n",
    "\n",
    "import numpy as np\n",
    "#myList1 = [3,1,11,5,2,4,6,8]\n",
    "\n",
    "scale_size = 8\n",
    "myList = list(np.random.randint(0,100,scale_size)) # Generate array of numbers between 0 and 100\n",
    "print(myList)\n",
    "mergeSort(myList,0,scale_size-1)\n",
    "print(myList)    "
   ]
  },
  {
   "cell_type": "markdown",
   "metadata": {},
   "source": [
    "### 3. Selection Sort"
   ]
  },
  {
   "cell_type": "code",
   "execution_count": 11,
   "metadata": {},
   "outputs": [
    {
     "name": "stdout",
     "output_type": "stream",
     "text": [
      "[9, 8, 0, 5, 2, 7, 1, 5, 5, 2]\n",
      "[0, 1, 2, 2, 5, 5, 5, 7, 8, 9]\n"
     ]
    }
   ],
   "source": [
    "def selectSort(myList):\n",
    "    '''Sort list with ascending order using selection sort algorithm'''\n",
    "    N = len(myList)\n",
    "    for i in range(0,N-1,1):\n",
    "        min_value = myList[i]\n",
    "        label = i\n",
    "        for j in range(i+1,N,1):\n",
    "            # Always to find the minimum value from the whole list\n",
    "            if myList[j] < min_value:\n",
    "                min_value = myList[j]\n",
    "                label = j\n",
    "        if i!= label : #minimum of this search doesn't happen at initial value\n",
    "            # exchange should happen between i th and j th element\n",
    "            temp = myList[i]\n",
    "            myList[i] = myList[label]\n",
    "            myList[label] = temp\n",
    "    return myList\n",
    "\n",
    "import numpy as np\n",
    "scale_size_1 = 10\n",
    "myList2 = list(np.random.randint(0,scale_size_1,scale_size_1))\n",
    "#myList2 = [7,5,3,1,6,3,6,4,2,3]\n",
    "print(myList2)\n",
    "selectSort(myList2)\n",
    "print(myList2)"
   ]
  },
  {
   "cell_type": "markdown",
   "metadata": {},
   "source": [
    "### Test performance of different sorting algorithms"
   ]
  },
  {
   "cell_type": "code",
   "execution_count": 1,
   "metadata": {},
   "outputs": [
    {
     "name": "stdout",
     "output_type": "stream",
     "text": [
      "[ 0.0010026   0.00231332  0.00353752  0.00480343  0.00608434  0.00706129\n",
      "  0.00872134  0.01007443  0.01144323  0.01243833  0.01438458  0.01572184\n",
      "  0.01684446  0.01812387  0.0198431   0.02044957  0.02196565  0.02328283\n",
      "  0.02436236  0.02561707]\n",
      "[ 0.00053386  0.00178446  0.00413295  0.00760212  0.01247915  0.01817928\n",
      "  0.02542311  0.03356739  0.0435587   0.0530818   0.06621093  0.07851515\n",
      "  0.0924535   0.10777764  0.12397816  0.13913579  0.15684283  0.17729063\n",
      "  0.19868295  0.23808298]\n",
      "[ 0.00037369  0.00107211  0.00246676  0.00486847  0.00729735  0.01059254\n",
      "  0.01436839  0.0188284   0.02330436  0.02923949  0.03552031  0.04543226\n",
      "  0.04945333  0.05717475  0.06570033  0.07339792  0.08791187  0.09233297\n",
      "  0.10310498  0.11459892]\n"
     ]
    }
   ],
   "source": [
    "#from SortAlgorithm import insertSort\n",
    "#from SortAlgorithm import mergeSort\n",
    "from SortAlgorithm.speedTest import insertTest\n",
    "from SortAlgorithm.speedTest import mergeTest\n",
    "from SortAlgorithm.speedTest import selectTest\n",
    "\n",
    "import numpy as np\n",
    "import timeit\n",
    "import time\n",
    "\n",
    "scale_series = list(range(100,2100,100))\n",
    "time_insert = np.zeros(len(scale_series))\n",
    "time_merge = np.zeros(len(scale_series))\n",
    "time_select = np.zeros(len(scale_series))\n",
    "\n",
    "for k in range(len(scale_series)):\n",
    "    scale_size = scale_series[k]\n",
    "    # Run test for insert sorting\n",
    "    tic =  time.time()\n",
    "    for i in range(100): # Run for 100 times and then take average\n",
    "        insertTest(scale_size)\n",
    "    toc = time.time()\n",
    "    time_insert[k]=(toc-tic)/100\n",
    "    \n",
    "    # Run test for merge sorting\n",
    "    tic =  time.time()\n",
    "    for i in range(100): # Run for 100 times and then take average\n",
    "        mergeTest(scale_size)\n",
    "    toc = time.time()\n",
    "    time_merge[k]=(toc-tic)/100   \n",
    "    \n",
    "        # Run test for select sorting\n",
    "    tic =  time.time()\n",
    "    for i in range(100): # Run for 100 times and then take average\n",
    "        selectTest(scale_size)\n",
    "    toc = time.time()\n",
    "    time_select[k]=(toc-tic)/100   \n",
    "    #print('%20.18f' %(toc-tic))\n",
    "    \n",
    "print(time_merge)\n",
    "print(time_insert)\n",
    "print(time_select)"
   ]
  },
  {
   "cell_type": "code",
   "execution_count": 3,
   "metadata": {},
   "outputs": [
    {
     "data": {
      "image/png": "[encoded data removed]",
      "text/plain": [
       "<matplotlib.figure.Figure at 0x245385d7438>"
      ]
     },
     "metadata": {},
     "output_type": "display_data"
    }
   ],
   "source": [
    "import matplotlib.pyplot as plt\n",
    "line1, = plt.plot(scale_series,time_insert, label=\"Insert Sorting\", linestyle='-')\n",
    "line2, = plt.plot(scale_series,time_select, label=\"Select Sorting\", linestyle='-')\n",
    "line3, = plt.plot(scale_series,time_merge, label=\"Merge Sorting\", linestyle='-')\n",
    "# Create a legend for two lines\n",
    "first_legend = plt.legend(handles=[line1, line2,line3], loc=0)\n",
    "plt.xlabel('Scale of input /#')\n",
    "plt.ylabel('Running Time /s')\n",
    "plt.grid(b=True)\n",
    "plt.show()"
   ]
  },
  {
   "cell_type": "markdown",
   "metadata": {},
   "source": []
  }
 ],
 "metadata": {
  "kernelspec": {
   "display_name": "Python 3",
   "language": "python",
   "name": "python3"
  },
  "language_info": {
   "codemirror_mode": {
    "name": "ipython",
    "version": 3
   },
   "file_extension": ".py",
   "mimetype": "text/x-python",
   "name": "python",
   "nbconvert_exporter": "python",
   "pygments_lexer": "ipython3",
   "version": "3.5.2"
  }
 },
 "nbformat": 4,
 "nbformat_minor": 2
}
