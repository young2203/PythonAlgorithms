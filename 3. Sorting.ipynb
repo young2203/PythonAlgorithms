{
 "cells": [
  {
   "cell_type": "markdown",
   "metadata": {},
   "source": [
    "### 1. Insert Sorting"
   ]
  },
  {
   "cell_type": "code",
   "execution_count": 23,
   "metadata": {},
   "outputs": [
    {
     "name": "stdout",
     "output_type": "stream",
     "text": [
      "[1 4 7 2 6 5 9 7 8 5]\n",
      "[1 2 4 5 5 6 7 7 8 9]\n"
     ]
    }
   ],
   "source": [
    "# myList =input('Please input a list needing to be sorted')\n",
    "# myList=[2,5,8,1,7,6]\n",
    "import numpy as np\n",
    "scale_size = 10\n",
    "myList = np.random.randint(0,scale_size,scale_size)\n",
    "print(myList)\n",
    "listLen = len(myList)\n",
    "\n",
    "def exchangeValue(listIn,id_i,id_j):\n",
    "    '''Exchange values inside the list between given indexes'''\n",
    "    temp  = listIn[id_i]\n",
    "    listIn[id_i] = listIn[id_j]\n",
    "    listIn[id_j] = temp\n",
    "#exchangeValue(myList,0,1)\n",
    "\n",
    "for i in range(1,listLen):\n",
    "    j = i\n",
    "    while j > 0:\n",
    "        if myList[j] < myList[j-1]: # Ascending order\n",
    "            exchangeValue(myList,j,j-1)\n",
    "            j-=1\n",
    "        else:\n",
    "            j-=1\n",
    "            break      \n",
    "print(myList)"
   ]
  },
  {
   "cell_type": "code",
   "execution_count": 32,
   "metadata": {},
   "outputs": [
    {
     "name": "stdout",
     "output_type": "stream",
     "text": [
      "[8 9 7 8 8 7 6 7 0 6]\n",
      "[9 8 8 8 7 7 7 6 6 0]\n"
     ]
    }
   ],
   "source": [
    "# This is a more concise version, the number of operations during each loop \n",
    "# can be reduced further from last version\n",
    "scale_size_1 = 10\n",
    "myList1 = np.random.randint(0,scale_size_1,scale_size_1)\n",
    "#myList1 = [3, 1, 5, 0, 3]\n",
    "print(myList1)\n",
    "listLen = len(myList1)\n",
    "for i in range(1,listLen):\n",
    "    j = i\n",
    "    tempVar = myList1[i]    \n",
    "    while j > 0 and myList1[j-1] > tempVar: \n",
    "    #as long as a_j-1 > a_j (local descending order), exchange should happen\n",
    "        myList1[j] = myList1[j-1]\n",
    "        j-=1\n",
    "    myList1[j] = tempVar\n",
    "print(myList1)"
   ]
  },
  {
   "cell_type": "code",
   "execution_count": null,
   "metadata": {},
   "outputs": [],
   "source": []
  }
 ],
 "metadata": {
  "kernelspec": {
   "display_name": "Python 3",
   "language": "python",
   "name": "python3"
  },
  "language_info": {
   "codemirror_mode": {
    "name": "ipython",
    "version": 3
   },
   "file_extension": ".py",
   "mimetype": "text/x-python",
   "name": "python",
   "nbconvert_exporter": "python",
   "pygments_lexer": "ipython3",
   "version": "3.6.2"
  }
 },
 "nbformat": 4,
 "nbformat_minor": 2
}
