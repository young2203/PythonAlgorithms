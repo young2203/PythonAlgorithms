{
 "cells": [
  {
   "cell_type": "markdown",
   "metadata": {},
   "source": [
    "### Why algorithm matters?\n",
    "\n",
    "As we already know that a program consists of two things \n",
    "- Data structure : Your data and how you are going to organize them\n",
    "- Algorithm      : What are you going to do on your data\n",
    "\n",
    "If we want to solve our problem efficiently, there is no way we could detour from designing good algorithms,\n",
    "While in terms of efficiency, it's actually defined by the time cost of a program when its datasets scales up.\n",
    "Here is a classic example showing how things can change with different strategies.\n",
    "\n",
    "#### Let's take a look at the first one, and pay attention to how will the time cost increase with input scale:"
   ]
  },
  {
   "cell_type": "code",
   "execution_count": 11,
   "metadata": {},
   "outputs": [],
   "source": [
    "import time"
   ]
  },
  {
   "cell_type": "code",
   "execution_count": 7,
   "metadata": {
    "scrolled": false
   },
   "outputs": [
    {
     "name": "stdout",
     "output_type": "stream",
     "text": [
      "Time cost was 0.01751494s \n"
     ]
    }
   ],
   "source": [
    "count = 10**5\n",
    "nums = []\n",
    "t = time.time()\n",
    "for i in range(count):\n",
    "    nums.append(i)\n",
    "nums.reverse()\n",
    "elapse =  time.time()-t\n",
    "print(\"Time cost was %10.8fs \" %elapse)"
   ]
  },
  {
   "cell_type": "code",
   "execution_count": 8,
   "metadata": {},
   "outputs": [
    {
     "name": "stdout",
     "output_type": "stream",
     "text": [
      "Time cost was 0.15158486s \n"
     ]
    }
   ],
   "source": [
    "count = 10**6\n",
    "nums = []\n",
    "t = time.time()\n",
    "for i in range(count):\n",
    "    nums.append(i)\n",
    "nums.reverse()\n",
    "elapse =  time.time()-t\n",
    "print(\"Time cost was %10.8fs \" %elapse)"
   ]
  },
  {
   "cell_type": "markdown",
   "metadata": {},
   "source": [
    "#### Now let's go to its second version, also pay attention to the time cost when input data scales up:"
   ]
  },
  {
   "cell_type": "code",
   "execution_count": 9,
   "metadata": {},
   "outputs": [
    {
     "name": "stdout",
     "output_type": "stream",
     "text": [
      "Time cost was 2.73957491s \n"
     ]
    }
   ],
   "source": [
    "count = 10**5\n",
    "nums = []\n",
    "t = time.time()\n",
    "for i in range(count):\n",
    "    nums.insert(0,i)\n",
    "elapse =  time.time()-t\n",
    "print(\"Time cost was %10.8fs \" %elapse)"
   ]
  },
  {
   "cell_type": "code",
   "execution_count": 10,
   "metadata": {},
   "outputs": [
    {
     "name": "stdout",
     "output_type": "stream",
     "text": [
      "Time cost was 416.25603080s \n"
     ]
    }
   ],
   "source": [
    "count = 10**6\n",
    "nums = []\n",
    "t = time.time()\n",
    "for i in range(count):\n",
    "    nums.insert(0,i)\n",
    "elapse =  time.time()-t\n",
    "print(\"Time cost was %10.8fs \" %elapse)"
   ]
  },
  {
   "cell_type": "markdown",
   "metadata": {},
   "source": [
    "#### Summary:\n",
    "As you can see, in first version, when count goes from $10^5$ to $10^6$, the cost time increased by around 10 times, which is same as scale-up magnitude of input data. While in second version, the cost time increased by almost 150 times! This is just an example of comparison between linear & quadratic growth, but it can actually tell us how important it is to design a proper algorithm for our problem."
   ]
  },
  {
   "cell_type": "markdown",
   "metadata": {},
   "source": [
    "### Example: Anagram problem\n",
    "\n",
    "Design a program to test whether two strings are anagrams or not, e.g. \"debit cart\" v.s \"bad credit\" or \"creat\" v.s. \"react\"\n",
    "Here are our solutions:\n",
    "- Solution 1 : Check off\n",
    "\n",
    "Check off the elements in string 2 when it appears in string 1, if there is nothing left then those two should be anagrams of each other, otherwise they are not anagrams."
   ]
  },
  {
   "cell_type": "code",
   "execution_count": 27,
   "metadata": {},
   "outputs": [
    {
     "name": "stdout",
     "output_type": "stream",
     "text": [
      "'debit card' and 'bad credit' are anagrams of each other\n"
     ]
    }
   ],
   "source": [
    "import numpy as np\n",
    "def anagramCheck(s1, s2) :\n",
    "    len1 = len(s1)\n",
    "    len2 = len(s2)\n",
    "    if len1 != len2 :\n",
    "        print(\"'%s' and '%s' are not anagrams of each other\" %(s1,s2))\n",
    "    else:\n",
    "        checkboard = np.ones(len2)\n",
    "        for i in range(len1):\n",
    "            for j in range(len2):\n",
    "                if s1[i] == s2[j] and checkboard[j] != 0 :\n",
    "                    checkboard[j] = 0\n",
    "                    break\n",
    "        if np.sum(checkboard) == 0:\n",
    "            print(\"'%s' and '%s' are anagrams of each other\" %(s1,s2))\n",
    "        else:\n",
    "            print(\"'%s' and '%s' are not anagrams of each other\" %(s1,s2))\n",
    "                \n",
    "    return None\n",
    "anagramCheck('debit card', 'bad credit')"
   ]
  },
  {
   "cell_type": "markdown",
   "metadata": {},
   "source": [
    "- Solution 2 : Sort and compare"
   ]
  },
  {
   "cell_type": "code",
   "execution_count": 38,
   "metadata": {},
   "outputs": [
    {
     "name": "stdout",
     "output_type": "stream",
     "text": [
      "'debit card' and 'bad credit' are anagrams of each other\n"
     ]
    }
   ],
   "source": [
    "def anagramCheckSoln2(s1, s2) :\n",
    "    # Convert to list firstly\n",
    "    ls1=list(s1)\n",
    "    ls2=list(s2)\n",
    "    \n",
    "    # Use built-up sorting function\n",
    "    ls1.sort()\n",
    "    ls2.sort()\n",
    "    \n",
    "    # Convert list to string\n",
    "    str1 = ''.join(ls1)\n",
    "    str2 = ''.join(ls2)\n",
    "\n",
    "    if str1 == str2 :\n",
    "        print(\"'%s' and '%s' are anagrams of each other\" %(s1,s2))\n",
    "    else:\n",
    "        print(\"'%s' and '%s' are not anagrams of each other\" %(s1,s2)) \n",
    "    return None\n",
    "anagramCheckSoln2('debit card', 'bad credit')"
   ]
  },
  {
   "cell_type": "markdown",
   "metadata": {},
   "source": [
    "- Solution 3 : Count and compare"
   ]
  },
  {
   "cell_type": "code",
   "execution_count": 47,
   "metadata": {},
   "outputs": [
    {
     "name": "stdout",
     "output_type": "stream",
     "text": [
      "'debit card' and 'bad credit' are anagrams of each other\n"
     ]
    }
   ],
   "source": [
    "#import numpy as np\n",
    "def anagramCheckSoln3(s1, s2) :\n",
    "    # Initialize standard recording table for two strings based on ASCII code\n",
    "    table_1 = np.zeros(256) \n",
    "    table_2 = np.zeros(256)\n",
    "    if len(s1) != len(s2):\n",
    "        print(\"'%s' and '%s' are not anagrams of each other\" %(s1,s2)) \n",
    "    else:\n",
    "        for i in range(len(s1)):\n",
    "            table_1[ord(s1[i])] = table_1[ord(s1[i])] + 1.0\n",
    "            table_2[ord(s2[i])] = table_2[ord(s2[i])] + 1.0\n",
    "        if np.all(table_1 == table_2):\n",
    "            print(\"'%s' and '%s' are anagrams of each other\" %(s1,s2)) \n",
    "        else:        \n",
    "            print(\"'%s' and '%s' are not anagrams of each other\" %(s1,s2))\n",
    "    \n",
    "    return None\n",
    "anagramCheckSoln3('debit card', 'bad credit')"
   ]
  },
  {
   "cell_type": "markdown",
   "metadata": {},
   "source": [
    "### Analysis:\n",
    "\n",
    "Finally let's take a look at what we could learn from this simple example. The big-O running-time would be what we are interested the most:\n",
    "- Solution 1: $O(n^2)$\n",
    "- SOlution 2: $O(nlog(n))$ or $O(n^2)$, depending on what kind of algorithm .sort() is using within python\n",
    "- Solution 3: $O(n)$\n",
    "\n",
    "If we only stand at the point of efficiency, we may say that Solution 3 is the best among them. However, if we are going to vote for the solution with the least space usage, apparently solution 3 is not going to win again. Or in other words, solution 3 is making compromise on space to win the gain on running time. The key point here is that it's always hard to get the least running time with allocating the least space for that program. Actually this is the case we are going to face everytime: to balance between **space and time**.  \n"
   ]
  }
 ],
 "metadata": {
  "kernelspec": {
   "display_name": "Python 3",
   "language": "python",
   "name": "python3"
  },
  "language_info": {
   "codemirror_mode": {
    "name": "ipython",
    "version": 3
   },
   "file_extension": ".py",
   "mimetype": "text/x-python",
   "name": "python",
   "nbconvert_exporter": "python",
   "pygments_lexer": "ipython3",
   "version": "3.6.2"
  }
 },
 "nbformat": 4,
 "nbformat_minor": 2
}
