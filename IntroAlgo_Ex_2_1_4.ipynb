{
 "cells": [
  {
   "cell_type": "markdown",
   "metadata": {},
   "source": [
    "Recall De Morgan's laws,\n",
    "$${\\overline {A\\cup B}}={\\overline {A}}\\cap {\\overline {B}}$$\n",
    "$${\\overline {A\\cap B}}={\\overline {A}}\\cup {\\overline {B}}$$\n",
    "\n",
    "then we can build up basic logic operations based on NAND:\n",
    "- AND:  $$ AB=\\overline { {\\overline {AB}} \\cdot {\\overline {AB}} }$$\n",
    "- OR:  $$ A+B=\\overline { {\\overline {AA}} \\cdot {\\overline {BB}} }$$\n",
    "- NOT:  $$ {\\overline {A}}= {\\overline {AA}} $$"
   ]
  },
  {
   "cell_type": "code",
   "execution_count": 34,
   "metadata": {},
   "outputs": [],
   "source": [
    "# Define basic logic operations based on NAND operation\n",
    "def NAND(A,B):\n",
    "    if (A==1 and B==1) :\n",
    "        return 0\n",
    "    else:\n",
    "        return 1\n",
    "\n",
    "def usrAND(A,B):\n",
    "    return NAND(NAND(A,B),NAND(A,B))\n",
    "\n",
    "def usrOR(A,B):\n",
    "    return NAND(NAND(A,A),NAND(B,B))\n",
    "\n",
    "def usrNOT(A):\n",
    "    return NAND(A,A)\n",
    "\n",
    "## Code used to test three basic logic functoins\n",
    "def testFunc():\n",
    "    a=[0,1]\n",
    "    b=[0,1]\n",
    "    for A in a:\n",
    "        for B in b:\n",
    "            print(\"A=%i, B=%i\" %(A,B))\n",
    "            print(\"AND: %i\" %(usrAND(A,B)))\n",
    "            print(\"OR: %i\" %(usrOR(A,B)))\n",
    "            print(\"NOT A: %i\" %(usrNOT(A)))\n",
    "## Test passed\n",
    "#testFunc()"
   ]
  },
  {
   "cell_type": "markdown",
   "metadata": {},
   "source": [
    "### Half Adder\n",
    "![Image of HalfAdder](https://www.elprocus.com/wp-content/uploads/2014/12/Half-Addder.jpg)\n",
    "\n",
    "### Truth Table of Half Adder\n",
    "![Image of HalfAdder Truth Table](https://www.elprocus.com/wp-content/uploads/2014/12/Half-Addder-Truth-Table.jpg)\n",
    "\n",
    "### Full Adder\n",
    "![Image of HalfAdder](https://www.elprocus.com/wp-content/uploads/2014/12/Full-Adder.jpg)\n",
    "\n",
    "### Truth Table of Full Adder\n",
    "![Image of FullAdder Truth Table](https://www.elprocus.com/wp-content/uploads/2014/12/Full-Adder-Truth-Table.jpg)\n",
    "\n",
    "### Full adder design using half adder\n",
    "![Image of Full Adder Design](https://www.elprocus.com/wp-content/uploads/2014/12/Full-Adder-by-Half-Adders.jpg)"
   ]
  },
  {
   "cell_type": "code",
   "execution_count": 35,
   "metadata": {},
   "outputs": [],
   "source": [
    "# from IPython.display import Image\n",
    "# from IPython.core.display import HTML \n",
    "# Image(url= \"https://www.elprocus.com/wp-content/uploads/2014/12/Full-Adder.jpg\")"
   ]
  },
  {
   "cell_type": "code",
   "execution_count": 36,
   "metadata": {},
   "outputs": [],
   "source": [
    "import numpy as np\n",
    "\n",
    "def bin2dec(intList):\n",
    "    '''Test function, transform number in binary form to decimal system'''\n",
    "    number = 0\n",
    "    N = len(intList)\n",
    "    for i in range(1,N+1):\n",
    "        number = number + intList[i-1]*2**(N-i)\n",
    "    return number\n",
    "\n",
    "def halfAdder(A,B):\n",
    "    '''Define half-addition, will return result in form of one sum bit and one extra carry bit '''\n",
    "    if A != 1 and A !=0:\n",
    "        raise ValueError(\"Not a valid binary bit input\")\n",
    "    if B != 1 and B !=0:\n",
    "        raise ValueError(\"Not a valid binary bit input\")\n",
    "    sum_bit = usrOR(usrAND(A,usrNOT(B)),usrAND(usrNOT(A),B))\n",
    "    carry_bit = usrAND(A,B)\n",
    "    return sum_bit, carry_bit\n",
    "\n",
    "def fullAdder(A,B,C):\n",
    "    '''Define full-addition, take in two bits to be added and one more carry bit, return sum bit and carry bit '''\n",
    "    if A != 1 and A !=0:\n",
    "        raise ValueError(\"Not a valid binary bit input\")\n",
    "    if B != 1 and B !=0:\n",
    "        raise ValueError(\"Not a valid binary bit input\")\n",
    "    if C != 1 and C !=0:\n",
    "        raise ValueError(\"Not a valid binary bit input\")\n",
    "    mid_sum, mid_carry_1 = halfAdder(A,B)\n",
    "    sum_bit, mid_carry_2 = halfAdder(mid_sum, C)\n",
    "    carry_bit = usrOR(mid_carry_1,mid_carry_2)\n",
    "    return sum_bit, carry_bit\n",
    "\n",
    "# fullAdder test code\n",
    "# for i in range(2):\n",
    "#     for j in range(2):\n",
    "#         for k in range(2):\n",
    "#             print(fullAdder(i,j,k))"
   ]
  },
  {
   "cell_type": "markdown",
   "metadata": {},
   "source": [
    "### Carry lookahead adder based on full adder\n",
    "![Image of lookahead adder](https://www.nandland.com/vhdl/modules/images/carry-lookahead-adder-4-bit.png)"
   ]
  },
  {
   "cell_type": "code",
   "execution_count": 38,
   "metadata": {},
   "outputs": [
    {
     "name": "stdout",
     "output_type": "stream",
     "text": [
      "  [0 1 0 0 0 1 0 0]\n",
      "  [0 1 0 0 0 1 0 0]\n",
      "[0 1 0 0 0 1 0 0 0]\n",
      "68 + 68 = 136\n"
     ]
    }
   ],
   "source": [
    "N = 8\n",
    "# Generate two random binary numbers with N digits\n",
    "intA = np.random.randint(0,2,N)\n",
    "intB = np.random.randint(0,2,N)\n",
    "# Initialize array to store addition result, all the elements in list will be zero\n",
    "intC = np.random.randint(0,1,N+1)\n",
    "\n",
    "## Connect full adder in series to realize multiple bit addition\n",
    "intC[-1], carry_bit = fullAdder(intA[-1],intB[-1],0)\n",
    "for i in range(1,len(intA)):\n",
    "    intC[-1-i], carry_bit = fullAdder(intA[-1-i],intB[-1-i],carry_bit)\n",
    "intC[0] = carry_bit\n",
    "\n",
    "print(\"  \"+str(intA))\n",
    "print(\"  \"+str(intB))\n",
    "print(intC)\n",
    "\n",
    "numA = bin2dec(intA)\n",
    "numB = bin2dec(intB)\n",
    "numC = bin2dec(intC)\n",
    "print(\"%i + %i = %i\" %(numA,numB,numC))"
   ]
  },
  {
   "cell_type": "code",
   "execution_count": null,
   "metadata": {},
   "outputs": [],
   "source": [
    "## Obsolete code\n",
    "\n",
    "\n",
    "# import numpy as np\n",
    "\n",
    "# def bin2dec(intList):\n",
    "#     '''Test function, transform number in binary form to decimal system'''\n",
    "#     number = 0\n",
    "#     N = len(intList)\n",
    "#     for i in range(1,N+1):\n",
    "#         number = number + intList[i-1]*2**(N-i)\n",
    "#     return number\n",
    "\n",
    "# def oneBitAdd(A,B):\n",
    "#     '''Define one bit addition, will return result in form of one bit and one extra bit in register'''\n",
    "#     result = usrOR(usrAND(A,usrNOT(B)),usrAND(usrNOT(A),B))\n",
    "#     register = usrAND(A,B)\n",
    "#     return register, result\n",
    "\n",
    "# def multiAdd(AList,BList):\n",
    "#     N = len(AList)\n",
    "#     CList = np.random.randint(0,1,N+1)\n",
    "#     register = 0\n",
    "#     for i in range(len(AList)):\n",
    "#         A = AList[-i-1]\n",
    "#         B = BList[-i-1]\n",
    "#         midReg_1, C = oneBitAdd(A,B)\n",
    "#         midReg_2, C = oneBitAdd(C,register)\n",
    "#         null, register = oneBitAdd(midReg_1,midReg_2)\n",
    "#         CList[-i-1] = int(C)\n",
    "#     CList[0] = int(register)\n",
    "#     return CList\n",
    "\n",
    "# N = 5\n",
    "# intA = np.random.randint(0,2,N)\n",
    "# intB = np.random.randint(0,2,N)\n",
    "# #intB = np.random.randint(1,2,N) # All the elements in list will be one\n",
    "\n",
    "# intC = multiAdd(intA,intB)\n",
    "# print(\"  \"+str(intA))\n",
    "# print(\"  \"+str(intB))\n",
    "# print(intC)\n",
    "\n",
    "# numA = bin2dec(intA)\n",
    "# numB = bin2dec(intB)\n",
    "# numC = bin2dec(intC)\n",
    "# print(\"%i + %i = %i\" %(numA,numB,numC))"
   ]
  },
  {
   "cell_type": "code",
   "execution_count": null,
   "metadata": {},
   "outputs": [],
   "source": []
  }
 ],
 "metadata": {
  "kernelspec": {
   "display_name": "Python 3",
   "language": "python",
   "name": "python3"
  },
  "language_info": {
   "codemirror_mode": {
    "name": "ipython",
    "version": 3
   },
   "file_extension": ".py",
   "mimetype": "text/x-python",
   "name": "python",
   "nbconvert_exporter": "python",
   "pygments_lexer": "ipython3",
   "version": "3.6.2"
  }
 },
 "nbformat": 4,
 "nbformat_minor": 2
}
