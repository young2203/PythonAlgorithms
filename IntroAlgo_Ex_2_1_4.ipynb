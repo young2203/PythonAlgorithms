{
 "cells": [
  {
   "cell_type": "markdown",
   "metadata": {},
   "source": [
    "Recall De Morgan's laws,\n",
    "$${\\overline {A\\cup B}}={\\overline {A}}\\cap {\\overline {B}}$$\n",
    "$${\\overline {A\\cap B}}={\\overline {A}}\\cup {\\overline {B}}$$\n",
    "\n",
    "then we can build up basic logic operations based on NAND:\n",
    "- AND:  $$ AB=\\overline { {\\overline {AB}} \\cdot {\\overline {AB}} }$$\n",
    "- OR:  $$ A+B=\\overline { {\\overline {AA}} \\cdot {\\overline {BB}} }$$\n",
    "- NOT:  $$ {\\overline {A}}= {\\overline {AA}} $$"
   ]
  },
  {
   "cell_type": "code",
   "execution_count": 18,
   "metadata": {},
   "outputs": [],
   "source": [
    "# Define basic logic operations based on NAND operation\n",
    "def NAND(A,B):\n",
    "    if (A==1 and B==1) :\n",
    "        return 0\n",
    "    else:\n",
    "        return 1\n",
    "\n",
    "def usrAND(A,B):\n",
    "    return NAND(NAND(A,B),NAND(A,B))\n",
    "\n",
    "def usrOR(A,B):\n",
    "    return NAND(NAND(A,A),NAND(B,B))\n",
    "\n",
    "def usrNOT(A):\n",
    "    return NAND(A,A)\n",
    "\n",
    "## Code used to test three basic logic functoins\n",
    "def testFunc():\n",
    "    a=[0,1]\n",
    "    b=[0,1]\n",
    "    for A in a:\n",
    "        for B in b:\n",
    "            print(\"A=%i, B=%i\" %(A,B))\n",
    "            print(\"AND: %i\" %(usrAND(A,B)))\n",
    "            print(\"OR: %i\" %(usrOR(A,B)))\n",
    "            print(\"NOT A: %i\" %(usrNOT(A)))\n",
    "## Test passed\n",
    "#testFunc()"
   ]
  },
  {
   "cell_type": "code",
   "execution_count": 20,
   "metadata": {},
   "outputs": [
    {
     "name": "stdout",
     "output_type": "stream",
     "text": [
      "  [0 1 1 1 0]\n",
      "  [1 1 1 0 1]\n",
      "[1 0 1 0 1 1]\n",
      "14 + 29 = 43\n"
     ]
    }
   ],
   "source": [
    "import numpy as np\n",
    "\n",
    "def bin2num(intList):\n",
    "    '''Test function, transform number in binary form to decimal system'''\n",
    "    number = 0\n",
    "    N = len(intList)\n",
    "    for i in range(1,N+1):\n",
    "        number = number + intList[i-1]*2**(N-i)\n",
    "    return number\n",
    "\n",
    "def oneBitAdd(A,B):\n",
    "    '''Define one bit addition, will return result in form of one bit and one extra bit in register'''\n",
    "    result = usrOR(usrAND(A,usrNOT(B)),usrAND(usrNOT(A),B))\n",
    "    register = usrAND(A,B)\n",
    "    return register, result\n",
    "\n",
    "def multiAdd(AList,BList):\n",
    "    N = len(AList)\n",
    "    CList = np.random.randint(0,1,N+1)\n",
    "    register = 0\n",
    "    for i in range(len(AList)):\n",
    "        A = AList[-i-1]\n",
    "        B = BList[-i-1]\n",
    "        midReg_1, C = oneBitAdd(A,B)\n",
    "        midReg_2, C = oneBitAdd(C,register)\n",
    "        null, register = oneBitAdd(midReg_1,midReg_2)\n",
    "        CList[-i-1] = int(C)\n",
    "    CList[0] = int(register)\n",
    "    return CList\n",
    "\n",
    "N = 5\n",
    "intA = np.random.randint(0,2,N)\n",
    "intB = np.random.randint(0,2,N)\n",
    "#intB = np.random.randint(1,2,N) # All the elements in list will be one\n",
    "\n",
    "intC = multiAdd(intA,intB)\n",
    "print(\"  \"+str(intA))\n",
    "print(\"  \"+str(intB))\n",
    "print(intC)\n",
    "\n",
    "numA = bin2num(intA)\n",
    "numB = bin2num(intB)\n",
    "numC = bin2num(intC)\n",
    "print(\"%i + %i = %i\" %(numA,numB,numC))"
   ]
  }
 ],
 "metadata": {
  "kernelspec": {
   "display_name": "Python 3",
   "language": "python",
   "name": "python3"
  },
  "language_info": {
   "codemirror_mode": {
    "name": "ipython",
    "version": 3
   },
   "file_extension": ".py",
   "mimetype": "text/x-python",
   "name": "python",
   "nbconvert_exporter": "python",
   "pygments_lexer": "ipython3",
   "version": "3.6.2"
  }
 },
 "nbformat": 4,
 "nbformat_minor": 2
}
